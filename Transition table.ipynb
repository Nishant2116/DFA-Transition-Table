{
 "cells": [
  {
   "cell_type": "code",
   "execution_count": 1,
   "id": "ff7a910f",
   "metadata": {},
   "outputs": [
    {
     "name": "stdout",
     "output_type": "stream",
     "text": [
      "Enter a number :4\n"
     ]
    },
    {
     "data": {
      "text/html": [
       "<div>\n",
       "<style scoped>\n",
       "    .dataframe tbody tr th:only-of-type {\n",
       "        vertical-align: middle;\n",
       "    }\n",
       "\n",
       "    .dataframe tbody tr th {\n",
       "        vertical-align: top;\n",
       "    }\n",
       "\n",
       "    .dataframe thead th {\n",
       "        text-align: right;\n",
       "    }\n",
       "</style>\n",
       "<table border=\"1\" class=\"dataframe\">\n",
       "  <thead>\n",
       "    <tr style=\"text-align: right;\">\n",
       "      <th></th>\n",
       "      <th>4n+0</th>\n",
       "      <th>4n+1</th>\n",
       "      <th>4n+2</th>\n",
       "      <th>4n+3</th>\n",
       "    </tr>\n",
       "  </thead>\n",
       "  <tbody>\n",
       "    <tr>\n",
       "      <th>q0</th>\n",
       "      <td>q0</td>\n",
       "      <td>q1</td>\n",
       "      <td>q2</td>\n",
       "      <td>q3</td>\n",
       "    </tr>\n",
       "    <tr>\n",
       "      <th>q1</th>\n",
       "      <td>q2</td>\n",
       "      <td>q3</td>\n",
       "      <td>q0</td>\n",
       "      <td>q1</td>\n",
       "    </tr>\n",
       "    <tr>\n",
       "      <th>q2</th>\n",
       "      <td>q0</td>\n",
       "      <td>q1</td>\n",
       "      <td>q2</td>\n",
       "      <td>q3</td>\n",
       "    </tr>\n",
       "    <tr>\n",
       "      <th>q3</th>\n",
       "      <td>q2</td>\n",
       "      <td>q3</td>\n",
       "      <td>q0</td>\n",
       "      <td>q1</td>\n",
       "    </tr>\n",
       "  </tbody>\n",
       "</table>\n",
       "</div>"
      ],
      "text/plain": [
       "   4n+0 4n+1 4n+2 4n+3\n",
       "q0   q0   q1   q2   q3\n",
       "q1   q2   q3   q0   q1\n",
       "q2   q0   q1   q2   q3\n",
       "q3   q2   q3   q0   q1"
      ]
     },
     "execution_count": 1,
     "metadata": {},
     "output_type": "execute_result"
    }
   ],
   "source": [
    "import numpy as np\n",
    "import pandas as pd \n",
    "x=int(input('Enter a number :'))\n",
    "arr1=np.arange(0,10)\n",
    "num=list(arr1)\n",
    "\n",
    "states=[]\n",
    "\n",
    "arr=[]\n",
    "ziplist=[]\n",
    "arg=[]\n",
    "transition=[]\n",
    "for i in range(x):\n",
    "    ziplist.append([])\n",
    "    arg.append([])\n",
    "    arr.append((str(x)+'n+'+str(i)))\n",
    "    states.append(('q'+str(i)))\n",
    "    transition.append([])\n",
    "\n",
    "for i in arr1:\n",
    "    for j in range(x):\n",
    "        if i%x==j:\n",
    "            arg[j].append(i)\n",
    "\n",
    "        \n",
    "for i in arr1:\n",
    "            a=i%x\n",
    "            for j in range(x):\n",
    "                if a==i:\n",
    "                    ziplist[j].append(str(j)+str(np.random.choice(arg[a])))\n",
    "                    \n",
    "                    \n",
    "my_dict={}\n",
    "for i in range(x):\n",
    "    my_dict[states[i]]=ziplist[i]\n",
    "    \n",
    "for i in range(0,len(ziplist)):\n",
    "    for j in ziplist[i]:\n",
    "        for k in range(x):\n",
    "            if int(j)%x==k:\n",
    "                transition[i].append('q'+str(k))\n",
    "\n",
    "                \n",
    "                \n",
    "df2=pd.DataFrame.from_dict(my_dict,orient='index',columns=arr)\n",
    "df=pd.DataFrame(transition,index=states,columns=arr)\n",
    "df"
   ]
  },
  {
   "cell_type": "code",
   "execution_count": null,
   "id": "39bfab81",
   "metadata": {},
   "outputs": [],
   "source": []
  }
 ],
 "metadata": {
  "kernelspec": {
   "display_name": "Python 3 (ipykernel)",
   "language": "python",
   "name": "python3"
  },
  "language_info": {
   "codemirror_mode": {
    "name": "ipython",
    "version": 3
   },
   "file_extension": ".py",
   "mimetype": "text/x-python",
   "name": "python",
   "nbconvert_exporter": "python",
   "pygments_lexer": "ipython3",
   "version": "3.9.7"
  }
 },
 "nbformat": 4,
 "nbformat_minor": 5
}
